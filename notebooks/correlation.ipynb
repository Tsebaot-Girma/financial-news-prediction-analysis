{
 "cells": [
  {
   "cell_type": "code",
   "execution_count": 1,
   "metadata": {},
   "outputs": [
    {
     "name": "stderr",
     "output_type": "stream",
     "text": [
      "c:\\Users\\Tsebaot\\Desktop\\week 1\\financial-news-prediction-analysis\\venv\\lib\\site-packages\\nltk\\metrics\\association.py:26: UserWarning: A NumPy version >=1.23.5 and <2.3.0 is required for this version of SciPy (detected version 1.23.0)\n",
      "  from scipy.stats import fisher_exact\n"
     ]
    }
   ],
   "source": [
    "import pandas as pd\n",
    "import numpy as np\n",
    "from textblob import TextBlob\n",
    "import matplotlib.pyplot as plt\n",
    "from scipy.stats import pearsonr\n",
    "import os\n",
    "import sys\n",
    "sys.path.append(\"../scripts/\")  # Add the scripts folder to the path\n",
    "\n",
    "import utils as util\n",
    "import eda"
   ]
  },
  {
   "cell_type": "code",
   "execution_count": 2,
   "metadata": {},
   "outputs": [
    {
     "name": "stdout",
     "output_type": "stream",
     "text": [
      "                                            headline  \\\n",
      "0            Stocks That Hit 52-Week Highs On Friday   \n",
      "1         Stocks That Hit 52-Week Highs On Wednesday   \n",
      "2                      71 Biggest Movers From Friday   \n",
      "3       46 Stocks Moving In Friday's Mid-Day Session   \n",
      "4  B of A Securities Maintains Neutral on Agilent...   \n",
      "\n",
      "                                                 url          publisher  \\\n",
      "0  https://www.benzinga.com/news/20/06/16190091/s...  Benzinga Insights   \n",
      "1  https://www.benzinga.com/news/20/06/16170189/s...  Benzinga Insights   \n",
      "2  https://www.benzinga.com/news/20/05/16103463/7...         Lisa Levin   \n",
      "3  https://www.benzinga.com/news/20/05/16095921/4...         Lisa Levin   \n",
      "4  https://www.benzinga.com/news/20/05/16095304/b...         Vick Meyer   \n",
      "\n",
      "                        date stock  \n",
      "0  2020-06-05 10:30:54-04:00     A  \n",
      "1  2020-06-03 10:45:20-04:00     A  \n",
      "2  2020-05-26 04:30:07-04:00     A  \n",
      "3  2020-05-22 12:45:06-04:00     A  \n",
      "4  2020-05-22 11:38:59-04:00     A  \n",
      "         Date      Open      High       Low     Close  Adj Close     Volume  \\\n",
      "0  1980-12-12  0.128348  0.128906  0.128348  0.128348   0.098943  469033600   \n",
      "1  1980-12-15  0.122210  0.122210  0.121652  0.121652   0.093781  175884800   \n",
      "2  1980-12-16  0.113281  0.113281  0.112723  0.112723   0.086898  105728000   \n",
      "3  1980-12-17  0.115513  0.116071  0.115513  0.115513   0.089049   86441600   \n",
      "4  1980-12-18  0.118862  0.119420  0.118862  0.118862   0.091630   73449600   \n",
      "\n",
      "   Dividends  Stock Splits  \n",
      "0        0.0           0.0  \n",
      "1        0.0           0.0  \n",
      "2        0.0           0.0  \n",
      "3        0.0           0.0  \n",
      "4        0.0           0.0  \n"
     ]
    }
   ],
   "source": [
    "# Load datasets\n",
    "all_data_path1 = '../data/raw_analyst_ratings.csv'\n",
    "all_data_path2 = '../data/AAPL_historical_data.csv'\n",
    "news_data = util.read_csv_file(all_data_path1)\n",
    "stock_data = util.read_csv_file(all_data_path2)\n",
    "news_data = news_data.get(\"data\")\n",
    "stock_data = stock_data.get(\"data\")\n",
    "\n",
    "# Display the first few rows of each dataset\n",
    "print(news_data.head())\n",
    "print(stock_data.head())"
   ]
  },
  {
   "cell_type": "code",
   "execution_count": 3,
   "metadata": {},
   "outputs": [],
   "source": [
    "news_data['date'] = pd.to_datetime(news_data['date'], errors='coerce')\n",
    "stock_data['Date'] = pd.to_datetime(stock_data['Date'], errors='coerce')"
   ]
  },
  {
   "cell_type": "code",
   "execution_count": 4,
   "metadata": {},
   "outputs": [],
   "source": [
    "news_data['date'] = pd.to_datetime(news_data['date'], utc=True)\n",
    "stock_data['Date'] = pd.to_datetime(stock_data['Date'], utc=True)"
   ]
  },
  {
   "cell_type": "code",
   "execution_count": 5,
   "metadata": {},
   "outputs": [
    {
     "name": "stdout",
     "output_type": "stream",
     "text": [
      "0   2020-06-05 14:30:54+00:00\n",
      "1   2020-06-03 14:45:20+00:00\n",
      "2   2020-05-26 08:30:07+00:00\n",
      "3   2020-05-22 16:45:06+00:00\n",
      "4   2020-05-22 15:38:59+00:00\n",
      "Name: date, dtype: datetime64[ns, UTC]\n",
      "0   1980-12-12 00:00:00+00:00\n",
      "1   1980-12-15 00:00:00+00:00\n",
      "2   1980-12-16 00:00:00+00:00\n",
      "3   1980-12-17 00:00:00+00:00\n",
      "4   1980-12-18 00:00:00+00:00\n",
      "Name: Date, dtype: datetime64[ns, UTC]\n"
     ]
    }
   ],
   "source": [
    "print(news_data['date'].head())\n",
    "print(stock_data['Date'].head())"
   ]
  },
  {
   "cell_type": "code",
   "execution_count": 6,
   "metadata": {},
   "outputs": [],
   "source": [
    "news_data['date'] = news_data['date'].dt.tz_localize(None)\n",
    "stock_data['Date'] = stock_data['Date'].dt.tz_localize(None)"
   ]
  },
  {
   "cell_type": "code",
   "execution_count": 7,
   "metadata": {},
   "outputs": [
    {
     "name": "stdout",
     "output_type": "stream",
     "text": [
      "0   2020-06-05 14:30:54\n",
      "1   2020-06-03 14:45:20\n",
      "2   2020-05-26 08:30:07\n",
      "3   2020-05-22 16:45:06\n",
      "4   2020-05-22 15:38:59\n",
      "Name: date, dtype: datetime64[ns]\n",
      "0   1980-12-12\n",
      "1   1980-12-15\n",
      "2   1980-12-16\n",
      "3   1980-12-17\n",
      "4   1980-12-18\n",
      "Name: Date, dtype: datetime64[ns]\n"
     ]
    }
   ],
   "source": [
    "print(news_data['date'].head())\n",
    "print(stock_data['Date'].head())"
   ]
  },
  {
   "cell_type": "code",
   "execution_count": 8,
   "metadata": {},
   "outputs": [
    {
     "name": "stdout",
     "output_type": "stream",
     "text": [
      "                                                              headline  \\\n",
      "date                                                                     \n",
      "2020-06-05 14:30:54            Stocks That Hit 52-Week Highs On Friday   \n",
      "2020-06-03 14:45:20         Stocks That Hit 52-Week Highs On Wednesday   \n",
      "2020-05-26 08:30:07                      71 Biggest Movers From Friday   \n",
      "2020-05-22 16:45:06       46 Stocks Moving In Friday's Mid-Day Session   \n",
      "2020-05-22 15:38:59  B of A Securities Maintains Neutral on Agilent...   \n",
      "\n",
      "                                                                   url  \\\n",
      "date                                                                     \n",
      "2020-06-05 14:30:54  https://www.benzinga.com/news/20/06/16190091/s...   \n",
      "2020-06-03 14:45:20  https://www.benzinga.com/news/20/06/16170189/s...   \n",
      "2020-05-26 08:30:07  https://www.benzinga.com/news/20/05/16103463/7...   \n",
      "2020-05-22 16:45:06  https://www.benzinga.com/news/20/05/16095921/4...   \n",
      "2020-05-22 15:38:59  https://www.benzinga.com/news/20/05/16095304/b...   \n",
      "\n",
      "                             publisher stock  \n",
      "date                                          \n",
      "2020-06-05 14:30:54  Benzinga Insights     A  \n",
      "2020-06-03 14:45:20  Benzinga Insights     A  \n",
      "2020-05-26 08:30:07         Lisa Levin     A  \n",
      "2020-05-22 16:45:06         Lisa Levin     A  \n",
      "2020-05-22 15:38:59         Vick Meyer     A  \n",
      "                Open      High       Low     Close  Adj Close     Volume  \\\n",
      "Date                                                                       \n",
      "1980-12-12  0.128348  0.128906  0.128348  0.128348   0.098943  469033600   \n",
      "1980-12-15  0.122210  0.122210  0.121652  0.121652   0.093781  175884800   \n",
      "1980-12-16  0.113281  0.113281  0.112723  0.112723   0.086898  105728000   \n",
      "1980-12-17  0.115513  0.116071  0.115513  0.115513   0.089049   86441600   \n",
      "1980-12-18  0.118862  0.119420  0.118862  0.118862   0.091630   73449600   \n",
      "\n",
      "            Dividends  Stock Splits  \n",
      "Date                                 \n",
      "1980-12-12        0.0           0.0  \n",
      "1980-12-15        0.0           0.0  \n",
      "1980-12-16        0.0           0.0  \n",
      "1980-12-17        0.0           0.0  \n",
      "1980-12-18        0.0           0.0  \n"
     ]
    }
   ],
   "source": [
    "# Set the date as the index for easy alignment\n",
    "news_data.set_index('date', inplace=True)\n",
    "stock_data.set_index('Date', inplace=True)\n",
    "\n",
    "# Display the first few rows to confirm alignment\n",
    "print(news_data.head())\n",
    "print(stock_data.head())\n"
   ]
  },
  {
   "cell_type": "code",
   "execution_count": 9,
   "metadata": {},
   "outputs": [],
   "source": [
    "# Function to calculate sentiment score\n",
    "def get_sentiment(text):\n",
    "    return TextBlob(text).sentiment.polarity  # Returns a value between -1 (negative) and 1 (positive)\n",
    "\n",
    "# Apply sentiment analysis to the headlines\n",
    "news_data['sentiment'] = news_data['headline'].apply(get_sentiment)\n",
    "\n",
    "\n",
    "# Reset the index to prepare for aggregation\n",
    "news_data.reset_index(inplace=True)\n"
   ]
  },
  {
   "cell_type": "code",
   "execution_count": 22,
   "metadata": {},
   "outputs": [
    {
     "data": {
      "text/html": [
       "<div>\n",
       "<style scoped>\n",
       "    .dataframe tbody tr th:only-of-type {\n",
       "        vertical-align: middle;\n",
       "    }\n",
       "\n",
       "    .dataframe tbody tr th {\n",
       "        vertical-align: top;\n",
       "    }\n",
       "\n",
       "    .dataframe thead th {\n",
       "        text-align: right;\n",
       "    }\n",
       "</style>\n",
       "<table border=\"1\" class=\"dataframe\">\n",
       "  <thead>\n",
       "    <tr style=\"text-align: right;\">\n",
       "      <th></th>\n",
       "      <th>date</th>\n",
       "      <th>headline</th>\n",
       "      <th>url</th>\n",
       "      <th>publisher</th>\n",
       "      <th>stock</th>\n",
       "      <th>sentiment</th>\n",
       "    </tr>\n",
       "  </thead>\n",
       "  <tbody>\n",
       "    <tr>\n",
       "      <th>0</th>\n",
       "      <td>2020-06-05 14:30:54</td>\n",
       "      <td>Stocks That Hit 52-Week Highs On Friday</td>\n",
       "      <td>https://www.benzinga.com/news/20/06/16190091/s...</td>\n",
       "      <td>Benzinga Insights</td>\n",
       "      <td>A</td>\n",
       "      <td>0.0</td>\n",
       "    </tr>\n",
       "    <tr>\n",
       "      <th>1</th>\n",
       "      <td>2020-06-03 14:45:20</td>\n",
       "      <td>Stocks That Hit 52-Week Highs On Wednesday</td>\n",
       "      <td>https://www.benzinga.com/news/20/06/16170189/s...</td>\n",
       "      <td>Benzinga Insights</td>\n",
       "      <td>A</td>\n",
       "      <td>0.0</td>\n",
       "    </tr>\n",
       "    <tr>\n",
       "      <th>2</th>\n",
       "      <td>2020-05-26 08:30:07</td>\n",
       "      <td>71 Biggest Movers From Friday</td>\n",
       "      <td>https://www.benzinga.com/news/20/05/16103463/7...</td>\n",
       "      <td>Lisa Levin</td>\n",
       "      <td>A</td>\n",
       "      <td>0.0</td>\n",
       "    </tr>\n",
       "    <tr>\n",
       "      <th>3</th>\n",
       "      <td>2020-05-22 16:45:06</td>\n",
       "      <td>46 Stocks Moving In Friday's Mid-Day Session</td>\n",
       "      <td>https://www.benzinga.com/news/20/05/16095921/4...</td>\n",
       "      <td>Lisa Levin</td>\n",
       "      <td>A</td>\n",
       "      <td>0.0</td>\n",
       "    </tr>\n",
       "    <tr>\n",
       "      <th>4</th>\n",
       "      <td>2020-05-22 15:38:59</td>\n",
       "      <td>B of A Securities Maintains Neutral on Agilent...</td>\n",
       "      <td>https://www.benzinga.com/news/20/05/16095304/b...</td>\n",
       "      <td>Vick Meyer</td>\n",
       "      <td>A</td>\n",
       "      <td>0.0</td>\n",
       "    </tr>\n",
       "  </tbody>\n",
       "</table>\n",
       "</div>"
      ],
      "text/plain": [
       "                 date                                           headline  \\\n",
       "0 2020-06-05 14:30:54            Stocks That Hit 52-Week Highs On Friday   \n",
       "1 2020-06-03 14:45:20         Stocks That Hit 52-Week Highs On Wednesday   \n",
       "2 2020-05-26 08:30:07                      71 Biggest Movers From Friday   \n",
       "3 2020-05-22 16:45:06       46 Stocks Moving In Friday's Mid-Day Session   \n",
       "4 2020-05-22 15:38:59  B of A Securities Maintains Neutral on Agilent...   \n",
       "\n",
       "                                                 url          publisher stock  \\\n",
       "0  https://www.benzinga.com/news/20/06/16190091/s...  Benzinga Insights     A   \n",
       "1  https://www.benzinga.com/news/20/06/16170189/s...  Benzinga Insights     A   \n",
       "2  https://www.benzinga.com/news/20/05/16103463/7...         Lisa Levin     A   \n",
       "3  https://www.benzinga.com/news/20/05/16095921/4...         Lisa Levin     A   \n",
       "4  https://www.benzinga.com/news/20/05/16095304/b...         Vick Meyer     A   \n",
       "\n",
       "   sentiment  \n",
       "0        0.0  \n",
       "1        0.0  \n",
       "2        0.0  \n",
       "3        0.0  \n",
       "4        0.0  "
      ]
     },
     "execution_count": 22,
     "metadata": {},
     "output_type": "execute_result"
    }
   ],
   "source": [
    "news_data.head()"
   ]
  },
  {
   "cell_type": "code",
   "execution_count": 11,
   "metadata": {},
   "outputs": [],
   "source": [
    "# Calculate daily returns\n",
    "stock_data['daily_return'] = stock_data['Close'].pct_change()\n",
    "stock_data.dropna(inplace=True)  # Drop NA values that result from the pct_change\n"
   ]
  },
  {
   "cell_type": "code",
   "execution_count": 12,
   "metadata": {},
   "outputs": [
    {
     "data": {
      "text/html": [
       "<div>\n",
       "<style scoped>\n",
       "    .dataframe tbody tr th:only-of-type {\n",
       "        vertical-align: middle;\n",
       "    }\n",
       "\n",
       "    .dataframe tbody tr th {\n",
       "        vertical-align: top;\n",
       "    }\n",
       "\n",
       "    .dataframe thead th {\n",
       "        text-align: right;\n",
       "    }\n",
       "</style>\n",
       "<table border=\"1\" class=\"dataframe\">\n",
       "  <thead>\n",
       "    <tr style=\"text-align: right;\">\n",
       "      <th></th>\n",
       "      <th>Open</th>\n",
       "      <th>High</th>\n",
       "      <th>Low</th>\n",
       "      <th>Close</th>\n",
       "      <th>Adj Close</th>\n",
       "      <th>Volume</th>\n",
       "      <th>Dividends</th>\n",
       "      <th>Stock Splits</th>\n",
       "      <th>daily_return</th>\n",
       "    </tr>\n",
       "    <tr>\n",
       "      <th>Date</th>\n",
       "      <th></th>\n",
       "      <th></th>\n",
       "      <th></th>\n",
       "      <th></th>\n",
       "      <th></th>\n",
       "      <th></th>\n",
       "      <th></th>\n",
       "      <th></th>\n",
       "      <th></th>\n",
       "    </tr>\n",
       "  </thead>\n",
       "  <tbody>\n",
       "    <tr>\n",
       "      <th>1980-12-15</th>\n",
       "      <td>0.122210</td>\n",
       "      <td>0.122210</td>\n",
       "      <td>0.121652</td>\n",
       "      <td>0.121652</td>\n",
       "      <td>0.093781</td>\n",
       "      <td>175884800</td>\n",
       "      <td>0.0</td>\n",
       "      <td>0.0</td>\n",
       "      <td>-0.052171</td>\n",
       "    </tr>\n",
       "    <tr>\n",
       "      <th>1980-12-16</th>\n",
       "      <td>0.113281</td>\n",
       "      <td>0.113281</td>\n",
       "      <td>0.112723</td>\n",
       "      <td>0.112723</td>\n",
       "      <td>0.086898</td>\n",
       "      <td>105728000</td>\n",
       "      <td>0.0</td>\n",
       "      <td>0.0</td>\n",
       "      <td>-0.073398</td>\n",
       "    </tr>\n",
       "    <tr>\n",
       "      <th>1980-12-17</th>\n",
       "      <td>0.115513</td>\n",
       "      <td>0.116071</td>\n",
       "      <td>0.115513</td>\n",
       "      <td>0.115513</td>\n",
       "      <td>0.089049</td>\n",
       "      <td>86441600</td>\n",
       "      <td>0.0</td>\n",
       "      <td>0.0</td>\n",
       "      <td>0.024751</td>\n",
       "    </tr>\n",
       "    <tr>\n",
       "      <th>1980-12-18</th>\n",
       "      <td>0.118862</td>\n",
       "      <td>0.119420</td>\n",
       "      <td>0.118862</td>\n",
       "      <td>0.118862</td>\n",
       "      <td>0.091630</td>\n",
       "      <td>73449600</td>\n",
       "      <td>0.0</td>\n",
       "      <td>0.0</td>\n",
       "      <td>0.028992</td>\n",
       "    </tr>\n",
       "    <tr>\n",
       "      <th>1980-12-19</th>\n",
       "      <td>0.126116</td>\n",
       "      <td>0.126674</td>\n",
       "      <td>0.126116</td>\n",
       "      <td>0.126116</td>\n",
       "      <td>0.097223</td>\n",
       "      <td>48630400</td>\n",
       "      <td>0.0</td>\n",
       "      <td>0.0</td>\n",
       "      <td>0.061029</td>\n",
       "    </tr>\n",
       "  </tbody>\n",
       "</table>\n",
       "</div>"
      ],
      "text/plain": [
       "                Open      High       Low     Close  Adj Close     Volume  \\\n",
       "Date                                                                       \n",
       "1980-12-15  0.122210  0.122210  0.121652  0.121652   0.093781  175884800   \n",
       "1980-12-16  0.113281  0.113281  0.112723  0.112723   0.086898  105728000   \n",
       "1980-12-17  0.115513  0.116071  0.115513  0.115513   0.089049   86441600   \n",
       "1980-12-18  0.118862  0.119420  0.118862  0.118862   0.091630   73449600   \n",
       "1980-12-19  0.126116  0.126674  0.126116  0.126116   0.097223   48630400   \n",
       "\n",
       "            Dividends  Stock Splits  daily_return  \n",
       "Date                                               \n",
       "1980-12-15        0.0           0.0     -0.052171  \n",
       "1980-12-16        0.0           0.0     -0.073398  \n",
       "1980-12-17        0.0           0.0      0.024751  \n",
       "1980-12-18        0.0           0.0      0.028992  \n",
       "1980-12-19        0.0           0.0      0.061029  "
      ]
     },
     "execution_count": 12,
     "metadata": {},
     "output_type": "execute_result"
    }
   ],
   "source": [
    "stock_data.head()"
   ]
  },
  {
   "cell_type": "code",
   "execution_count": 17,
   "metadata": {},
   "outputs": [
    {
     "name": "stdout",
     "output_type": "stream",
     "text": [
      "Index(['Date', 'Open', 'High', 'Low', 'Close', 'Adj Close', 'Volume',\n",
      "       'Dividends', 'Stock Splits', 'daily_return'],\n",
      "      dtype='object')\n"
     ]
    }
   ],
   "source": [
    "stock_data.reset_index(inplace=True)\n",
    "print(stock_data.columns)"
   ]
  },
  {
   "cell_type": "code",
   "execution_count": 64,
   "metadata": {},
   "outputs": [
    {
     "name": "stdout",
     "output_type": "stream",
     "text": [
      "                                                     headline  \\\n",
      "2020-03-09  Crude Awakening: Energy Sector Takes A 20% Spi...   \n",
      "2020-03-09     Investor Movement Index Summary: February 2020   \n",
      "2020-03-09      101 Stocks Moving In Monday's Mid-Day Session   \n",
      "2020-03-10  Peloton Shares Tick To Session Low As Hearing ...   \n",
      "2020-03-10                  Morning Market Stats In 5 Minutes   \n",
      "\n",
      "                                                          url  \\\n",
      "2020-03-09  https://www.benzinga.com/news/earnings/20/03/1...   \n",
      "2020-03-09  https://www.benzinga.com/news/earnings/20/03/1...   \n",
      "2020-03-09  https://www.benzinga.com/news/20/03/15508983/1...   \n",
      "2020-03-10  https://www.benzinga.com/news/20/03/15519796/p...   \n",
      "2020-03-10  https://www.benzinga.com/news/20/03/15517906/m...   \n",
      "\n",
      "                    publisher stock  sentiment      Close  \n",
      "2020-03-09         JJ Kinahan  AAPL  -0.466667  66.542503  \n",
      "2020-03-09      TD Ameritrade  AAPL   0.000000  66.542503  \n",
      "2020-03-09         Lisa Levin  AAPL   0.000000  66.542503  \n",
      "2020-03-10  Benzinga Newsdesk  AAPL   0.000000  71.334999  \n",
      "2020-03-10  Benzinga Newsdesk  AAPL   0.000000  71.334999  \n"
     ]
    }
   ],
   "source": [
    "# Ensure 'Date' exists in stock_data\n",
    "if 'Date' not in stock_data.columns:\n",
    "    stock_data.reset_index(inplace=True)  # Reset index if Date is the index\n",
    "\n",
    "# Align on date columns\n",
    "stock_data.set_index('Date', inplace=True)  # Ensure correct date index\n",
    "aapl_news = news_data[news_data['stock'] == 'AAPL'].copy()  # Filter AAPL news\n",
    "\n",
    "# Join the sentiment data with stock prices\n",
    "combined_data = aapl_news.set_index('date').join(stock_data['Close'])\n",
    "\n",
    "# Display the combined data\n",
    "print(combined_data.head())"
   ]
  },
  {
   "cell_type": "code",
   "execution_count": 53,
   "metadata": {},
   "outputs": [
    {
     "name": "stdout",
     "output_type": "stream",
     "text": [
      "Index(['Date', 'Open', 'High', 'Low', 'Close', 'Adj Close', 'Volume',\n",
      "       'Dividends', 'Stock Splits', 'daily_return'],\n",
      "      dtype='object')\n",
      "DatetimeIndex([          '1970-01-01 00:00:00',\n",
      "               '1970-01-01 00:00:00.000000001',\n",
      "               '1970-01-01 00:00:00.000000002',\n",
      "               '1970-01-01 00:00:00.000000003',\n",
      "               '1970-01-01 00:00:00.000000004',\n",
      "               '1970-01-01 00:00:00.000000005',\n",
      "               '1970-01-01 00:00:00.000000006',\n",
      "               '1970-01-01 00:00:00.000000007',\n",
      "               '1970-01-01 00:00:00.000000008',\n",
      "               '1970-01-01 00:00:00.000000009',\n",
      "               ...\n",
      "               '1970-01-01 00:00:00.000010987',\n",
      "               '1970-01-01 00:00:00.000010988',\n",
      "               '1970-01-01 00:00:00.000010989',\n",
      "               '1970-01-01 00:00:00.000010990',\n",
      "               '1970-01-01 00:00:00.000010991',\n",
      "               '1970-01-01 00:00:00.000010992',\n",
      "               '1970-01-01 00:00:00.000010993',\n",
      "               '1970-01-01 00:00:00.000010994',\n",
      "               '1970-01-01 00:00:00.000010995',\n",
      "               '1970-01-01 00:00:00.000010996'],\n",
      "              dtype='datetime64[ns]', name='Date', length=10997, freq=None)\n"
     ]
    }
   ],
   "source": [
    "print(stock_data.columns)  # Check available columns\n",
    "print(stock_data.index)    # Check if the index contains the 'Date' information"
   ]
  },
  {
   "cell_type": "code",
   "execution_count": 56,
   "metadata": {},
   "outputs": [],
   "source": [
    "# Ensure the index is datetime and named correctly\n",
    "if not isinstance(stock_data.index, pd.DatetimeIndex):\n",
    "    stock_data.index = pd.to_datetime(stock_data.index)  # Convert to datetime if necessary\n",
    "stock_data.index.name = 'Date'  # "
   ]
  },
  {
   "cell_type": "code",
   "execution_count": 57,
   "metadata": {},
   "outputs": [],
   "source": [
    "# Ensure the index is datetime and named correctly\n",
    "if not isinstance(combined_data.index, pd.DatetimeIndex):\n",
    "   combined_data .index = pd.to_datetime(combined_data.index)  # Convert to datetime if necessary\n",
    "combined_data.index.name = 'date'  # "
   ]
  },
  {
   "cell_type": "code",
   "execution_count": 60,
   "metadata": {},
   "outputs": [
    {
     "name": "stdout",
     "output_type": "stream",
     "text": [
      "Index(['level_0', 'headline', 'url', 'publisher', 'stock', 'sentiment',\n",
      "       'Close', 'daily_return'],\n",
      "      dtype='object')\n",
      "DatetimeIndex(['2020-03-09 00:00:00', '2020-03-09 00:00:00',\n",
      "               '2020-03-09 00:00:00', '2020-03-10 00:00:00',\n",
      "               '2020-03-10 00:00:00', '2020-03-10 00:00:00',\n",
      "               '2020-03-10 00:00:00', '2020-03-10 00:00:00',\n",
      "               '2020-03-10 00:00:00', '2020-03-10 00:00:00',\n",
      "               ...\n",
      "               '2020-06-09 15:11:34', '2020-06-09 16:41:02',\n",
      "               '2020-06-09 17:58:46', '2020-06-09 19:14:07',\n",
      "               '2020-06-10 04:52:01', '2020-06-10 10:27:11',\n",
      "               '2020-06-10 11:19:25', '2020-06-10 11:53:47',\n",
      "               '2020-06-10 12:14:08', '2020-06-10 15:33:26'],\n",
      "              dtype='datetime64[ns]', name='date', length=441, freq=None)\n"
     ]
    }
   ],
   "source": [
    "print(combined_data.columns)\n",
    "print(combined_data.index)"
   ]
  },
  {
   "cell_type": "code",
   "execution_count": 61,
   "metadata": {},
   "outputs": [],
   "source": [
    "combined_data.drop(columns=['level_0'], inplace=True, errors='ignore')  # Safely drop 'level_0'"
   ]
  },
  {
   "cell_type": "code",
   "execution_count": 62,
   "metadata": {},
   "outputs": [],
   "source": [
    "# Ensure stock_data has a DateTime index\n",
    "stock_data.index = pd.to_datetime(stock_data.index)  # Convert index to datetime if needed\n",
    "stock_data.set_index('Date', inplace=True, drop=False)  # Ensure 'Date' is the index\n"
   ]
  },
  {
   "cell_type": "code",
   "execution_count": 68,
   "metadata": {},
   "outputs": [
    {
     "name": "stdout",
     "output_type": "stream",
     "text": [
      "                                                     headline  \\\n",
      "2020-03-09  Crude Awakening: Energy Sector Takes A 20% Spi...   \n",
      "2020-03-09     Investor Movement Index Summary: February 2020   \n",
      "2020-03-09      101 Stocks Moving In Monday's Mid-Day Session   \n",
      "2020-03-10  Peloton Shares Tick To Session Low As Hearing ...   \n",
      "2020-03-10                  Morning Market Stats In 5 Minutes   \n",
      "\n",
      "                                                          url  \\\n",
      "2020-03-09  https://www.benzinga.com/news/earnings/20/03/1...   \n",
      "2020-03-09  https://www.benzinga.com/news/earnings/20/03/1...   \n",
      "2020-03-09  https://www.benzinga.com/news/20/03/15508983/1...   \n",
      "2020-03-10  https://www.benzinga.com/news/20/03/15519796/p...   \n",
      "2020-03-10  https://www.benzinga.com/news/20/03/15517906/m...   \n",
      "\n",
      "                    publisher stock  sentiment      Close  daily_return  \n",
      "2020-03-09         JJ Kinahan  AAPL  -0.466667  66.542503     -0.079092  \n",
      "2020-03-09      TD Ameritrade  AAPL   0.000000  66.542503     -0.079092  \n",
      "2020-03-09         Lisa Levin  AAPL   0.000000  66.542503     -0.079092  \n",
      "2020-03-10  Benzinga Newsdesk  AAPL   0.000000  71.334999      0.072022  \n",
      "2020-03-10  Benzinga Newsdesk  AAPL   0.000000  71.334999      0.072022  \n"
     ]
    }
   ],
   "source": [
    "''' combined_data.drop(columns=['daily_return'], inplace=True, errors='ignore')\n",
    "combined_data = combined_data.join(stock_data['daily_return'])\n",
    "\n",
    "#combined_data = combined_data.join(stock_data['daily_return'])\n",
    "print(combined_data.head()) '''\n",
    "\n",
    "# Drop the existing 'daily_return' column if it already exists\n",
    "if 'daily_return' in combined_data.columns:\n",
    "    combined_data.drop(columns=['daily_return'], inplace=True)\n",
    "\n",
    "# Join the 'daily_return' column from stock_data\n",
    "combined_data = combined_data.join(stock_data['daily_return'])\n",
    "\n",
    "# Verify the result\n",
    "print(combined_data.head())\n"
   ]
  },
  {
   "cell_type": "code",
   "execution_count": null,
   "metadata": {},
   "outputs": [
    {
     "name": "stdout",
     "output_type": "stream",
     "text": [
      "Correlation between sentiment and daily stock returns: 0.06122464414879541\n"
     ]
    }
   ],
   "source": [
    "# Calculate correlation\n",
    "correlation = combined_data['sentiment'].corr(combined_data['daily_return'])\n",
    "print(\"Correlation between sentiment and daily stock returns:\", correlation)\n"
   ]
  },
  {
   "cell_type": "code",
   "execution_count": 71,
   "metadata": {},
   "outputs": [
    {
     "name": "stdout",
     "output_type": "stream",
     "text": [
      "Correlation between sentiment and closing: 0.027105118291747842\n"
     ]
    }
   ],
   "source": [
    "correlation = combined_data['sentiment'].corr(combined_data['Close'])\n",
    "print(\"Correlation between sentiment and closing:\", correlation)"
   ]
  },
  {
   "cell_type": "code",
   "execution_count": 72,
   "metadata": {},
   "outputs": [
    {
     "data": {
      "image/png": "[encoded data removed]",
      "text/plain": [
       "<Figure size 1000x600 with 1 Axes>"
      ]
     },
     "metadata": {},
     "output_type": "display_data"
    }
   ],
   "source": [
    "# Scatter plot for sentiment vs daily return\n",
    "plt.figure(figsize=(10, 6))\n",
    "plt.scatter(combined_data['sentiment'], combined_data['daily_return'], alpha=0.5)\n",
    "plt.title('Sentiment vs Daily Stock Return')\n",
    "plt.xlabel('Average Daily Sentiment')\n",
    "plt.ylabel('Daily Stock Return')\n",
    "plt.axhline(0, color='grey', lw=1, linestyle='--')\n",
    "plt.axvline(0, color='grey', lw=1, linestyle='--')\n",
    "plt.grid()\n",
    "plt.show()"
   ]
  }
 ],
 "metadata": {
  "kernelspec": {
   "display_name": "venv",
   "language": "python",
   "name": "python3"
  },
  "language_info": {
   "codemirror_mode": {
    "name": "ipython",
    "version": 3
   },
   "file_extension": ".py",
   "mimetype": "text/x-python",
   "name": "python",
   "nbconvert_exporter": "python",
   "pygments_lexer": "ipython3",
   "version": "3.10.0"
  }
 },
 "nbformat": 4,
 "nbformat_minor": 2
}
