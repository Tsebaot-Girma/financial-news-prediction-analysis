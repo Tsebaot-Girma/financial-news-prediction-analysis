{
 "cells": [
  {
   "cell_type": "code",
   "execution_count": 1,
   "metadata": {},
   "outputs": [
    {
     "name": "stderr",
     "output_type": "stream",
     "text": [
      "c:\\Users\\Tsebaot\\Desktop\\week 1\\financial-news-prediction-analysis\\venv\\lib\\site-packages\\nltk\\metrics\\association.py:26: UserWarning: A NumPy version >=1.23.5 and <2.3.0 is required for this version of SciPy (detected version 1.23.0)\n",
      "  from scipy.stats import fisher_exact\n"
     ]
    }
   ],
   "source": [
    "import pandas as pd\n",
    "import numpy as np\n",
    "from textblob import TextBlob\n",
    "import matplotlib.pyplot as plt\n",
    "from scipy.stats import pearsonr\n",
    "import os\n",
    "import sys\n",
    "sys.path.append(\"../scripts/\")  # Add the scripts folder to the path\n",
    "\n",
    "import utils as util\n",
    "import eda"
   ]
  },
  {
   "cell_type": "code",
   "execution_count": 2,
   "metadata": {},
   "outputs": [
    {
     "name": "stdout",
     "output_type": "stream",
     "text": [
      "                                            headline  \\\n",
      "0            Stocks That Hit 52-Week Highs On Friday   \n",
      "1         Stocks That Hit 52-Week Highs On Wednesday   \n",
      "2                      71 Biggest Movers From Friday   \n",
      "3       46 Stocks Moving In Friday's Mid-Day Session   \n",
      "4  B of A Securities Maintains Neutral on Agilent...   \n",
      "\n",
      "                                                 url          publisher  \\\n",
      "0  https://www.benzinga.com/news/20/06/16190091/s...  Benzinga Insights   \n",
      "1  https://www.benzinga.com/news/20/06/16170189/s...  Benzinga Insights   \n",
      "2  https://www.benzinga.com/news/20/05/16103463/7...         Lisa Levin   \n",
      "3  https://www.benzinga.com/news/20/05/16095921/4...         Lisa Levin   \n",
      "4  https://www.benzinga.com/news/20/05/16095304/b...         Vick Meyer   \n",
      "\n",
      "                        date stock  \n",
      "0  2020-06-05 10:30:54-04:00     A  \n",
      "1  2020-06-03 10:45:20-04:00     A  \n",
      "2  2020-05-26 04:30:07-04:00     A  \n",
      "3  2020-05-22 12:45:06-04:00     A  \n",
      "4  2020-05-22 11:38:59-04:00     A  \n",
      "         Date      Open      High       Low     Close  Adj Close     Volume  \\\n",
      "0  1980-12-12  0.128348  0.128906  0.128348  0.128348   0.098943  469033600   \n",
      "1  1980-12-15  0.122210  0.122210  0.121652  0.121652   0.093781  175884800   \n",
      "2  1980-12-16  0.113281  0.113281  0.112723  0.112723   0.086898  105728000   \n",
      "3  1980-12-17  0.115513  0.116071  0.115513  0.115513   0.089049   86441600   \n",
      "4  1980-12-18  0.118862  0.119420  0.118862  0.118862   0.091630   73449600   \n",
      "\n",
      "   Dividends  Stock Splits  \n",
      "0        0.0           0.0  \n",
      "1        0.0           0.0  \n",
      "2        0.0           0.0  \n",
      "3        0.0           0.0  \n",
      "4        0.0           0.0  \n"
     ]
    }
   ],
   "source": [
    "# Load datasets\n",
    "all_data_path1 = '../data/raw_analyst_ratings.csv'\n",
    "all_data_path2 = '../data/AAPL_historical_data.csv'\n",
    "news_data = util.read_csv_file(all_data_path1)\n",
    "stock_data = util.read_csv_file(all_data_path2)\n",
    "news_data = news_data.get(\"data\")\n",
    "stock_data = stock_data.get(\"data\")\n",
    "\n",
    "# Display the first few rows of each dataset\n",
    "print(news_data.head())\n",
    "print(stock_data.head())"
   ]
  },
  {
   "cell_type": "code",
   "execution_count": 13,
   "metadata": {},
   "outputs": [
    {
     "name": "stdout",
     "output_type": "stream",
     "text": [
      "Index(['Date', 'Open', 'High', 'Low', 'Close', 'Adj Close', 'Volume',\n",
      "       'Dividends', 'Stock Splits'],\n",
      "      dtype='object')\n"
     ]
    }
   ],
   "source": [
    "aapl_news = news_data[news_data['stock'] == 'AAPL']\n",
    "print(aapl_news)"
   ]
  },
  {
   "cell_type": "code",
   "execution_count": null,
   "metadata": {},
   "outputs": [
    {
     "name": "stdout",
     "output_type": "stream",
     "text": [
      "                                                                    headline  \\\n",
      "date                                                                           \n",
      "2020-06-05 10:30:54-04:00            Stocks That Hit 52-Week Highs On Friday   \n",
      "2020-06-03 10:45:20-04:00         Stocks That Hit 52-Week Highs On Wednesday   \n",
      "2020-05-26 04:30:07-04:00                      71 Biggest Movers From Friday   \n",
      "2020-05-22 12:45:06-04:00       46 Stocks Moving In Friday's Mid-Day Session   \n",
      "2020-05-22 11:38:59-04:00  B of A Securities Maintains Neutral on Agilent...   \n",
      "\n",
      "                                                                         url  \\\n",
      "date                                                                           \n",
      "2020-06-05 10:30:54-04:00  https://www.benzinga.com/news/20/06/16190091/s...   \n",
      "2020-06-03 10:45:20-04:00  https://www.benzinga.com/news/20/06/16170189/s...   \n",
      "2020-05-26 04:30:07-04:00  https://www.benzinga.com/news/20/05/16103463/7...   \n",
      "2020-05-22 12:45:06-04:00  https://www.benzinga.com/news/20/05/16095921/4...   \n",
      "2020-05-22 11:38:59-04:00  https://www.benzinga.com/news/20/05/16095304/b...   \n",
      "\n",
      "                                   publisher stock  \n",
      "date                                                \n",
      "2020-06-05 10:30:54-04:00  Benzinga Insights     A  \n",
      "2020-06-03 10:45:20-04:00  Benzinga Insights     A  \n",
      "2020-05-26 04:30:07-04:00         Lisa Levin     A  \n",
      "2020-05-22 12:45:06-04:00         Lisa Levin     A  \n",
      "2020-05-22 11:38:59-04:00         Vick Meyer     A  \n",
      "                Open      High       Low     Close  Adj Close     Volume  \\\n",
      "Date                                                                       \n",
      "1980-12-12  0.128348  0.128906  0.128348  0.128348   0.098943  469033600   \n",
      "1980-12-15  0.122210  0.122210  0.121652  0.121652   0.093781  175884800   \n",
      "1980-12-16  0.113281  0.113281  0.112723  0.112723   0.086898  105728000   \n",
      "1980-12-17  0.115513  0.116071  0.115513  0.115513   0.089049   86441600   \n",
      "1980-12-18  0.118862  0.119420  0.118862  0.118862   0.091630   73449600   \n",
      "\n",
      "            Dividends  Stock Splits  \n",
      "Date                                 \n",
      "1980-12-12        0.0           0.0  \n",
      "1980-12-15        0.0           0.0  \n",
      "1980-12-16        0.0           0.0  \n",
      "1980-12-17        0.0           0.0  \n",
      "1980-12-18        0.0           0.0  \n"
     ]
    }
   ],
   "source": [
    "# Convert date columns to datetime format\n",
    "aapl_news = eda.parse_dates(aapl_news, column_name=\"date\")\n",
    "stock_data = eda.parse_dates(stock_data, column_name=\"Date\")\n",
    "\n",
    "# Set the date as the index for easy alignment\n",
    "aapl_news.set_index('date', inplace=True)\n",
    "stock_data.set_index('Date', inplace=True)\n",
    "\n",
    "# Display the first few rows to confirm alignment\n",
    "print(aapl_news.head())\n",
    "print(stock_data.head())"
   ]
  },
  {
   "cell_type": "code",
   "execution_count": 4,
   "metadata": {},
   "outputs": [],
   "source": [
    "# Function to calculate sentiment score\n",
    "def get_sentiment(text):\n",
    "    return TextBlob(text).sentiment.polarity  # Returns a value between -1 (negative) and 1 (positive)\n",
    "\n",
    "# Apply sentiment analysis to the headlines\n",
    "aapl_news['sentiment'] =aapl_news['headline'].apply(get_sentiment)\n",
    "\n",
    "# Reset the index to prepare for aggregation\n",
    "news_data.reset_index(inplace=True)"
   ]
  },
  {
   "cell_type": "code",
   "execution_count": null,
   "metadata": {},
   "outputs": [],
   "source": [
    "# Calculate daily returns\n",
    "stock_data['daily_return'] = stock_data['Close'].pct_change()\n",
    "stock_data.dropna(inplace=True)  # Drop NA values that result from the pct_change"
   ]
  }
 ],
 "metadata": {
  "kernelspec": {
   "display_name": "venv",
   "language": "python",
   "name": "python3"
  },
  "language_info": {
   "codemirror_mode": {
    "name": "ipython",
    "version": 3
   },
   "file_extension": ".py",
   "mimetype": "text/x-python",
   "name": "python",
   "nbconvert_exporter": "python",
   "pygments_lexer": "ipython3",
   "version": "3.10.0"
  }
 },
 "nbformat": 4,
 "nbformat_minor": 2
}
