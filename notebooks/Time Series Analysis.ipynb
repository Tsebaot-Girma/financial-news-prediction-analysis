{
 "cells": [
  {
   "cell_type": "code",
   "execution_count": null,
   "metadata": {
    "vscode": {
     "languageId": "plaintext"
    }
   },
   "outputs": [],
   "source": [
    "import pandas as pd\n",
    "import matplotlib.pyplot as plt\n",
    "import seaborn as sns\n",
    "\n",
    "# Load dataset\n",
    "df = pd.read_csv('your_dataset.csv')\n",
    "\n",
    "# Convert date to datetime format\n",
    "df['date'] = pd.to_datetime(df['date'])\n",
    "\n",
    "# Group by date and count the articles\n",
    "publication_counts = df.groupby(df['date'].dt.date).size()\n",
    "\n",
    "# Plotting publication frequency over time\n",
    "plt.figure(figsize=(12, 6))\n",
    "sns.lineplot(x=publication_counts.index, y=publication_counts.values)\n",
    "plt.title('Publication Frequency Over Time')\n",
    "plt.xlabel('Date')\n",
    "plt.ylabel('Number of Articles')\n",
    "plt.xticks(rotation=45)\n",
    "plt.tight_layout()\n",
    "plt.show()\n",
    "\n",
    "# Find peaks in publication counts\n",
    "publication_spikes = publication_counts[publication_counts > publication_counts.mean() + 2 * publication_counts.std()]\n",
    "\n",
    "# Display spikes\n",
    "print(\"\\nSpikes in Publication Frequency:\")\n",
    "print(publication_spikes)\n",
    "\n",
    "# Extract time from the publication date\n",
    "df['time'] = df['date'].dt.time\n",
    "\n",
    "# Count articles published by hour\n",
    "df['hour'] = df['date'].dt.hour\n",
    "time_distribution = df['hour'].value_counts().sort_index()\n",
    "\n",
    "# Plotting time distribution\n",
    "plt.figure(figsize=(12, 6))\n",
    "sns.barplot(x=time_distribution.index, y=time_distribution.values)\n",
    "plt.title('Article Publication Distribution by Hour')\n",
    "plt.xlabel('Hour of Day')\n",
    "plt.ylabel('Number of Articles')\n",
    "plt.xticks(rotation=45)\n",
    "plt.tight_layout()\n",
    "plt.show()"
   ]
  }
 ],
 "metadata": {
  "language_info": {
   "name": "python"
  }
 },
 "nbformat": 4,
 "nbformat_minor": 2
}
